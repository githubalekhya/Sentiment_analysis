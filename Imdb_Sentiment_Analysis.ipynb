{
 "cells": [
  {
   "cell_type": "markdown",
   "metadata": {},
   "source": [
    "# Predicting if the given review is a positive review or a negative review"
   ]
  },
  {
   "cell_type": "code",
   "execution_count": 1,
   "metadata": {},
   "outputs": [],
   "source": [
    "#importing necessary modules\n",
    "import pandas as pd \n",
    "import re\n",
    "import matplotlib.pyplot as plt\n",
    "#import gensim\n",
    "import numpy as np\n",
    "import tensorflow as tf\n",
    "import keras\n",
    "from sklearn.model_selection import train_test_split"
   ]
  },
  {
   "cell_type": "code",
   "execution_count": 2,
   "metadata": {},
   "outputs": [
    {
     "data": {
      "text/html": [
       "<div>\n",
       "<style scoped>\n",
       "    .dataframe tbody tr th:only-of-type {\n",
       "        vertical-align: middle;\n",
       "    }\n",
       "\n",
       "    .dataframe tbody tr th {\n",
       "        vertical-align: top;\n",
       "    }\n",
       "\n",
       "    .dataframe thead th {\n",
       "        text-align: right;\n",
       "    }\n",
       "</style>\n",
       "<table border=\"1\" class=\"dataframe\">\n",
       "  <thead>\n",
       "    <tr style=\"text-align: right;\">\n",
       "      <th></th>\n",
       "      <th>text</th>\n",
       "      <th>label</th>\n",
       "    </tr>\n",
       "  </thead>\n",
       "  <tbody>\n",
       "    <tr>\n",
       "      <th>0</th>\n",
       "      <td>I grew up (b. 1965) watching and loving the Th...</td>\n",
       "      <td>0</td>\n",
       "    </tr>\n",
       "    <tr>\n",
       "      <th>1</th>\n",
       "      <td>When I put this movie in my DVD player, and sa...</td>\n",
       "      <td>0</td>\n",
       "    </tr>\n",
       "    <tr>\n",
       "      <th>2</th>\n",
       "      <td>Why do people who do not know what a particula...</td>\n",
       "      <td>0</td>\n",
       "    </tr>\n",
       "    <tr>\n",
       "      <th>3</th>\n",
       "      <td>Even though I have great interest in Biblical ...</td>\n",
       "      <td>0</td>\n",
       "    </tr>\n",
       "    <tr>\n",
       "      <th>4</th>\n",
       "      <td>Im a die hard Dads Army fan and nothing will e...</td>\n",
       "      <td>1</td>\n",
       "    </tr>\n",
       "    <tr>\n",
       "      <th>...</th>\n",
       "      <td>...</td>\n",
       "      <td>...</td>\n",
       "    </tr>\n",
       "    <tr>\n",
       "      <th>39995</th>\n",
       "      <td>\"Western Union\" is something of a forgotten cl...</td>\n",
       "      <td>1</td>\n",
       "    </tr>\n",
       "    <tr>\n",
       "      <th>39996</th>\n",
       "      <td>This movie is an incredible piece of work. It ...</td>\n",
       "      <td>1</td>\n",
       "    </tr>\n",
       "    <tr>\n",
       "      <th>39997</th>\n",
       "      <td>My wife and I watched this movie because we pl...</td>\n",
       "      <td>0</td>\n",
       "    </tr>\n",
       "    <tr>\n",
       "      <th>39998</th>\n",
       "      <td>When I first watched Flatliners, I was amazed....</td>\n",
       "      <td>1</td>\n",
       "    </tr>\n",
       "    <tr>\n",
       "      <th>39999</th>\n",
       "      <td>Why would this film be so good, but only gross...</td>\n",
       "      <td>1</td>\n",
       "    </tr>\n",
       "  </tbody>\n",
       "</table>\n",
       "<p>40000 rows × 2 columns</p>\n",
       "</div>"
      ],
      "text/plain": [
       "                                                    text  label\n",
       "0      I grew up (b. 1965) watching and loving the Th...      0\n",
       "1      When I put this movie in my DVD player, and sa...      0\n",
       "2      Why do people who do not know what a particula...      0\n",
       "3      Even though I have great interest in Biblical ...      0\n",
       "4      Im a die hard Dads Army fan and nothing will e...      1\n",
       "...                                                  ...    ...\n",
       "39995  \"Western Union\" is something of a forgotten cl...      1\n",
       "39996  This movie is an incredible piece of work. It ...      1\n",
       "39997  My wife and I watched this movie because we pl...      0\n",
       "39998  When I first watched Flatliners, I was amazed....      1\n",
       "39999  Why would this film be so good, but only gross...      1\n",
       "\n",
       "[40000 rows x 2 columns]"
      ]
     },
     "execution_count": 2,
     "metadata": {},
     "output_type": "execute_result"
    }
   ],
   "source": [
    "#reading the dataset \"movie.csv\"\n",
    "data = pd.read_csv('movie.csv')\n",
    "data"
   ]
  },
  {
   "cell_type": "code",
   "execution_count": 3,
   "metadata": {},
   "outputs": [],
   "source": [
    "#Function to name 0 as Negative and 1 as Positive\n",
    "def put_sentiment(x):\n",
    "    if x==0:\n",
    "        return 'Negative'\n",
    "    if x==1:\n",
    "        return 'Positive'"
   ]
  },
  {
   "cell_type": "code",
   "execution_count": 4,
   "metadata": {},
   "outputs": [
    {
     "data": {
      "text/html": [
       "<div>\n",
       "<style scoped>\n",
       "    .dataframe tbody tr th:only-of-type {\n",
       "        vertical-align: middle;\n",
       "    }\n",
       "\n",
       "    .dataframe tbody tr th {\n",
       "        vertical-align: top;\n",
       "    }\n",
       "\n",
       "    .dataframe thead th {\n",
       "        text-align: right;\n",
       "    }\n",
       "</style>\n",
       "<table border=\"1\" class=\"dataframe\">\n",
       "  <thead>\n",
       "    <tr style=\"text-align: right;\">\n",
       "      <th></th>\n",
       "      <th>text</th>\n",
       "      <th>label</th>\n",
       "      <th>Sentiment</th>\n",
       "    </tr>\n",
       "  </thead>\n",
       "  <tbody>\n",
       "    <tr>\n",
       "      <th>0</th>\n",
       "      <td>I grew up (b. 1965) watching and loving the Th...</td>\n",
       "      <td>0</td>\n",
       "      <td>Negative</td>\n",
       "    </tr>\n",
       "    <tr>\n",
       "      <th>1</th>\n",
       "      <td>When I put this movie in my DVD player, and sa...</td>\n",
       "      <td>0</td>\n",
       "      <td>Negative</td>\n",
       "    </tr>\n",
       "    <tr>\n",
       "      <th>2</th>\n",
       "      <td>Why do people who do not know what a particula...</td>\n",
       "      <td>0</td>\n",
       "      <td>Negative</td>\n",
       "    </tr>\n",
       "    <tr>\n",
       "      <th>3</th>\n",
       "      <td>Even though I have great interest in Biblical ...</td>\n",
       "      <td>0</td>\n",
       "      <td>Negative</td>\n",
       "    </tr>\n",
       "    <tr>\n",
       "      <th>4</th>\n",
       "      <td>Im a die hard Dads Army fan and nothing will e...</td>\n",
       "      <td>1</td>\n",
       "      <td>Positive</td>\n",
       "    </tr>\n",
       "    <tr>\n",
       "      <th>...</th>\n",
       "      <td>...</td>\n",
       "      <td>...</td>\n",
       "      <td>...</td>\n",
       "    </tr>\n",
       "    <tr>\n",
       "      <th>39995</th>\n",
       "      <td>\"Western Union\" is something of a forgotten cl...</td>\n",
       "      <td>1</td>\n",
       "      <td>Positive</td>\n",
       "    </tr>\n",
       "    <tr>\n",
       "      <th>39996</th>\n",
       "      <td>This movie is an incredible piece of work. It ...</td>\n",
       "      <td>1</td>\n",
       "      <td>Positive</td>\n",
       "    </tr>\n",
       "    <tr>\n",
       "      <th>39997</th>\n",
       "      <td>My wife and I watched this movie because we pl...</td>\n",
       "      <td>0</td>\n",
       "      <td>Negative</td>\n",
       "    </tr>\n",
       "    <tr>\n",
       "      <th>39998</th>\n",
       "      <td>When I first watched Flatliners, I was amazed....</td>\n",
       "      <td>1</td>\n",
       "      <td>Positive</td>\n",
       "    </tr>\n",
       "    <tr>\n",
       "      <th>39999</th>\n",
       "      <td>Why would this film be so good, but only gross...</td>\n",
       "      <td>1</td>\n",
       "      <td>Positive</td>\n",
       "    </tr>\n",
       "  </tbody>\n",
       "</table>\n",
       "<p>40000 rows × 3 columns</p>\n",
       "</div>"
      ],
      "text/plain": [
       "                                                    text  label Sentiment\n",
       "0      I grew up (b. 1965) watching and loving the Th...      0  Negative\n",
       "1      When I put this movie in my DVD player, and sa...      0  Negative\n",
       "2      Why do people who do not know what a particula...      0  Negative\n",
       "3      Even though I have great interest in Biblical ...      0  Negative\n",
       "4      Im a die hard Dads Army fan and nothing will e...      1  Positive\n",
       "...                                                  ...    ...       ...\n",
       "39995  \"Western Union\" is something of a forgotten cl...      1  Positive\n",
       "39996  This movie is an incredible piece of work. It ...      1  Positive\n",
       "39997  My wife and I watched this movie because we pl...      0  Negative\n",
       "39998  When I first watched Flatliners, I was amazed....      1  Positive\n",
       "39999  Why would this film be so good, but only gross...      1  Positive\n",
       "\n",
       "[40000 rows x 3 columns]"
      ]
     },
     "execution_count": 4,
     "metadata": {},
     "output_type": "execute_result"
    }
   ],
   "source": [
    "#Adding a new column to the dataset\n",
    "data['Sentiment'] = data['label'].apply(put_sentiment)\n",
    "data"
   ]
  },
  {
   "cell_type": "markdown",
   "metadata": {},
   "source": [
    "# Exploratory Data Analysis"
   ]
  },
  {
   "cell_type": "code",
   "execution_count": 5,
   "metadata": {},
   "outputs": [
    {
     "data": {
      "text/html": [
       "<div>\n",
       "<style scoped>\n",
       "    .dataframe tbody tr th:only-of-type {\n",
       "        vertical-align: middle;\n",
       "    }\n",
       "\n",
       "    .dataframe tbody tr th {\n",
       "        vertical-align: top;\n",
       "    }\n",
       "\n",
       "    .dataframe thead th {\n",
       "        text-align: right;\n",
       "    }\n",
       "</style>\n",
       "<table border=\"1\" class=\"dataframe\">\n",
       "  <thead>\n",
       "    <tr style=\"text-align: right;\">\n",
       "      <th></th>\n",
       "      <th>text</th>\n",
       "      <th>label</th>\n",
       "    </tr>\n",
       "    <tr>\n",
       "      <th>Sentiment</th>\n",
       "      <th></th>\n",
       "      <th></th>\n",
       "    </tr>\n",
       "  </thead>\n",
       "  <tbody>\n",
       "    <tr>\n",
       "      <th>Negative</th>\n",
       "      <td>19815</td>\n",
       "      <td>1</td>\n",
       "    </tr>\n",
       "    <tr>\n",
       "      <th>Positive</th>\n",
       "      <td>19908</td>\n",
       "      <td>1</td>\n",
       "    </tr>\n",
       "  </tbody>\n",
       "</table>\n",
       "</div>"
      ],
      "text/plain": [
       "            text  label\n",
       "Sentiment              \n",
       "Negative   19815      1\n",
       "Positive   19908      1"
      ]
     },
     "execution_count": 5,
     "metadata": {},
     "output_type": "execute_result"
    }
   ],
   "source": [
    "#To check number of negative comments and number of positive comments in the dataset\n",
    "data.groupby('Sentiment').nunique()"
   ]
  },
  {
   "cell_type": "markdown",
   "metadata": {},
   "source": [
    "This implies that we have a balanced distribution of sentiments across the Imdb reviews available in the dataset"
   ]
  },
  {
   "cell_type": "code",
   "execution_count": 6,
   "metadata": {},
   "outputs": [
    {
     "data": {
      "image/png": "[encoded data removed]",
      "text/plain": [
       "<Figure size 1080x576 with 1 Axes>"
      ]
     },
     "metadata": {
      "needs_background": "light"
     },
     "output_type": "display_data"
    }
   ],
   "source": [
    "lis1a = [\"Negative\", \"Positive\"]\n",
    "lis2a = [19815, 19908]\n",
    "\n",
    "x = lis1a\n",
    "y = lis2a\n",
    "\n",
    "f1 = plt.figure()\n",
    "f1.set_figwidth(15)\n",
    "f1.set_figheight(8)\n",
    "  \n",
    "plt.xlabel('Sentiment')\n",
    "plt.ylabel('Number of comments')\n",
    "for a,b in zip(lis1a, lis2a): \n",
    "    plt.text(a, b, str(round(b,3)))\n",
    "\n",
    "plt.bar(x, y)\n",
    "plt.show()"
   ]
  },
  {
   "cell_type": "code",
   "execution_count": 7,
   "metadata": {},
   "outputs": [
    {
     "data": {
      "text/plain": [
       "0"
      ]
     },
     "execution_count": 7,
     "metadata": {},
     "output_type": "execute_result"
    }
   ],
   "source": [
    "#Let's check with the text column to understand if there exists any null entries\n",
    "sum(data['text'].isna())"
   ]
  },
  {
   "cell_type": "code",
   "execution_count": 8,
   "metadata": {},
   "outputs": [
    {
     "data": {
      "text/html": [
       "<div>\n",
       "<style scoped>\n",
       "    .dataframe tbody tr th:only-of-type {\n",
       "        vertical-align: middle;\n",
       "    }\n",
       "\n",
       "    .dataframe tbody tr th {\n",
       "        vertical-align: top;\n",
       "    }\n",
       "\n",
       "    .dataframe thead th {\n",
       "        text-align: right;\n",
       "    }\n",
       "</style>\n",
       "<table border=\"1\" class=\"dataframe\">\n",
       "  <thead>\n",
       "    <tr style=\"text-align: right;\">\n",
       "      <th></th>\n",
       "      <th>text</th>\n",
       "      <th>label</th>\n",
       "      <th>Sentiment</th>\n",
       "    </tr>\n",
       "  </thead>\n",
       "  <tbody>\n",
       "    <tr>\n",
       "      <th>0</th>\n",
       "      <td>I grew up (b. 1965) watching and loving the Th...</td>\n",
       "      <td>0</td>\n",
       "      <td>Negative</td>\n",
       "    </tr>\n",
       "    <tr>\n",
       "      <th>1</th>\n",
       "      <td>When I put this movie in my DVD player, and sa...</td>\n",
       "      <td>0</td>\n",
       "      <td>Negative</td>\n",
       "    </tr>\n",
       "    <tr>\n",
       "      <th>2</th>\n",
       "      <td>Why do people who do not know what a particula...</td>\n",
       "      <td>0</td>\n",
       "      <td>Negative</td>\n",
       "    </tr>\n",
       "    <tr>\n",
       "      <th>3</th>\n",
       "      <td>Even though I have great interest in Biblical ...</td>\n",
       "      <td>0</td>\n",
       "      <td>Negative</td>\n",
       "    </tr>\n",
       "    <tr>\n",
       "      <th>4</th>\n",
       "      <td>Im a die hard Dads Army fan and nothing will e...</td>\n",
       "      <td>1</td>\n",
       "      <td>Positive</td>\n",
       "    </tr>\n",
       "  </tbody>\n",
       "</table>\n",
       "</div>"
      ],
      "text/plain": [
       "                                                text  label Sentiment\n",
       "0  I grew up (b. 1965) watching and loving the Th...      0  Negative\n",
       "1  When I put this movie in my DVD player, and sa...      0  Negative\n",
       "2  Why do people who do not know what a particula...      0  Negative\n",
       "3  Even though I have great interest in Biblical ...      0  Negative\n",
       "4  Im a die hard Dads Army fan and nothing will e...      1  Positive"
      ]
     },
     "execution_count": 8,
     "metadata": {},
     "output_type": "execute_result"
    }
   ],
   "source": [
    "df = data.copy()\n",
    "df.head()"
   ]
  },
  {
   "cell_type": "markdown",
   "metadata": {},
   "source": [
    "# Preprocessing the data"
   ]
  },
  {
   "cell_type": "code",
   "execution_count": 9,
   "metadata": {},
   "outputs": [],
   "source": [
    "def preprocess_sentence(x):\n",
    "    x = re.sub('[^A-Za-z]+', ' ', x) #removing everything other than alphabet\n",
    "    x = re.sub(r' \\w{1} |^\\w{1} | \\w{1}$', ' ', x).strip() # removing all the single letter words\n",
    "    x = x.lower() #coverting all the words to lowercase\n",
    "    return x"
   ]
  },
  {
   "cell_type": "code",
   "execution_count": 10,
   "metadata": {},
   "outputs": [
    {
     "data": {
      "text/html": [
       "<div>\n",
       "<style scoped>\n",
       "    .dataframe tbody tr th:only-of-type {\n",
       "        vertical-align: middle;\n",
       "    }\n",
       "\n",
       "    .dataframe tbody tr th {\n",
       "        vertical-align: top;\n",
       "    }\n",
       "\n",
       "    .dataframe thead th {\n",
       "        text-align: right;\n",
       "    }\n",
       "</style>\n",
       "<table border=\"1\" class=\"dataframe\">\n",
       "  <thead>\n",
       "    <tr style=\"text-align: right;\">\n",
       "      <th></th>\n",
       "      <th>text</th>\n",
       "      <th>label</th>\n",
       "      <th>Sentiment</th>\n",
       "      <th>preprocessed_text</th>\n",
       "    </tr>\n",
       "  </thead>\n",
       "  <tbody>\n",
       "    <tr>\n",
       "      <th>0</th>\n",
       "      <td>I grew up (b. 1965) watching and loving the Th...</td>\n",
       "      <td>0</td>\n",
       "      <td>Negative</td>\n",
       "      <td>grew up watching and loving the thunderbirds a...</td>\n",
       "    </tr>\n",
       "    <tr>\n",
       "      <th>1</th>\n",
       "      <td>When I put this movie in my DVD player, and sa...</td>\n",
       "      <td>0</td>\n",
       "      <td>Negative</td>\n",
       "      <td>when put this movie in my dvd player and sat d...</td>\n",
       "    </tr>\n",
       "    <tr>\n",
       "      <th>2</th>\n",
       "      <td>Why do people who do not know what a particula...</td>\n",
       "      <td>0</td>\n",
       "      <td>Negative</td>\n",
       "      <td>why do people who do not know what particular ...</td>\n",
       "    </tr>\n",
       "    <tr>\n",
       "      <th>3</th>\n",
       "      <td>Even though I have great interest in Biblical ...</td>\n",
       "      <td>0</td>\n",
       "      <td>Negative</td>\n",
       "      <td>even though have great interest in biblical mo...</td>\n",
       "    </tr>\n",
       "    <tr>\n",
       "      <th>4</th>\n",
       "      <td>Im a die hard Dads Army fan and nothing will e...</td>\n",
       "      <td>1</td>\n",
       "      <td>Positive</td>\n",
       "      <td>im die hard dads army fan and nothing will eve...</td>\n",
       "    </tr>\n",
       "  </tbody>\n",
       "</table>\n",
       "</div>"
      ],
      "text/plain": [
       "                                                text  label Sentiment  \\\n",
       "0  I grew up (b. 1965) watching and loving the Th...      0  Negative   \n",
       "1  When I put this movie in my DVD player, and sa...      0  Negative   \n",
       "2  Why do people who do not know what a particula...      0  Negative   \n",
       "3  Even though I have great interest in Biblical ...      0  Negative   \n",
       "4  Im a die hard Dads Army fan and nothing will e...      1  Positive   \n",
       "\n",
       "                                   preprocessed_text  \n",
       "0  grew up watching and loving the thunderbirds a...  \n",
       "1  when put this movie in my dvd player and sat d...  \n",
       "2  why do people who do not know what particular ...  \n",
       "3  even though have great interest in biblical mo...  \n",
       "4  im die hard dads army fan and nothing will eve...  "
      ]
     },
     "execution_count": 10,
     "metadata": {},
     "output_type": "execute_result"
    }
   ],
   "source": [
    "#Adding a new column with the processed text/comment\n",
    "df['preprocessed_text'] = df['text'].apply(preprocess_sentence) \n",
    "df.head()"
   ]
  },
  {
   "cell_type": "code",
   "execution_count": 11,
   "metadata": {},
   "outputs": [
    {
     "data": {
      "text/plain": [
       "array(['grew up watching and loving the thunderbirds all my mates at school watched we played thunderbirds before school during lunch and after school we all wanted to be virgil or scott no one wanted to be alan counting down from became an art form took my children to see the movie hoping they would get glimpse of what loved as child how bitterly disappointing the only high point was the snappy theme tune not that it could compare with the original score of the thunderbirds thankfully early saturday mornings one television channel still plays reruns of the series gerry anderson and his wife created jonatha frakes should hand in his directors chair his version was completely hopeless waste of film utter rubbish cgi remake may be acceptable but replacing marionettes with homo sapiens subsp sapiens was huge error of judgment',\n",
       "       'when put this movie in my dvd player and sat down with coke and some chips had some expectations was hoping that this movie would contain some of the strong points of the first movie awsome animation good flowing story excellent voice cast funny comedy and kick ass soundtrack but to my disappointment not any of this is to be found in atlantis milo return had read some reviews first might not have been so let down the following paragraph will be directed to those who have seen the first movie and who enjoyed it primarily for the points mentioned br br when the first scene appears your in for shock if you just picked atlantis milo return from the display case at your local videoshop or whatever and had the expectations had the music feels as bad imitation of the first movie and the voice cast has been replaced by not so fitting one with the exception of few characters like the voice of sweet the actual drawings isnt that bad but the animation in particular is sad sight the storyline is also pretty weak as its more like three episodes of schooby doo than the single adventurous story we got the last time but dont misunderstand it not very good schooby doo episodes didnt laugh single time although might have sniggered once or twice br br to the audience who haven seen the first movie or don especially care for similar sequel here is fast review of this movie as stand alone product if you liked schooby doo you might like this movie if you didn you could still enjoy this movie if you have nothing else to do and suspect it might be good kids movie but wouldn know it might have been better if milo return had been three episode series on cartoon channel or on breakfast tv',\n",
       "       'why do people who do not know what particular time in the past was like feel the need to try to define that time for others replace woodstock with the civil war and the apollo moon landing with the titanic sinking and you ve got as realistic flick as this formulaic soap opera populated entirely by low life trash is this what kids who were too young to be allowed to go to woodstock and who failed grade school composition do ll show those old meanies ll put out my own movie and prove that you don have to know nuttin about your topic to still make money yeah we already know that the one thing watching this film did for me was to give me little insight into underclass thinking the next time see slut in bar who looks like diane lane m running the other way it child abuse to let parents that worthless raise kids it audience abuse to simply stick woodstock and the moonlanding into flick as if that ipso facto means the film portrays',\n",
       "       'even though have great interest in biblical movies was bored to death every minute of the movie everything is bad the movie is too long the acting is most of the time joke and the script is horrible did not get the point in mixing the story about abraham and noah together so if you value your time and sanity stay away from this horror',\n",
       "       'im die hard dads army fan and nothing will ever change that got all the tapes dvd and audiobooks and every time watch listen to them its brand new br br the film the film is re run of certain episodes man and the hour enemy within the gates battle school and numerous others with different edge introduction of new general instead of captain square was brilliant move especially when he wouldn cash the cheque something that is rarely done now br br it follows through the early years of getting equipment and uniforms starting up and training all in all its great film for boring sunday afternoon br br two draw backs one is the germans bogus dodgy accents come one germans cant pronounced the letter like us and two the casting of liz frazer instead of the familiar janet davis like liz in other films like the carry ons but she doesn carry it correctly in this and janet davis would have been the better choice'],\n",
       "      dtype=object)"
      ]
     },
     "execution_count": 11,
     "metadata": {},
     "output_type": "execute_result"
    }
   ],
   "source": [
    "#printing the preprocessed data for our reference\n",
    "data = np.array(df['preprocessed_text'])\n",
    "data[:5]"
   ]
  },
  {
   "cell_type": "code",
   "execution_count": 12,
   "metadata": {},
   "outputs": [
    {
     "data": {
      "text/plain": [
       "array([[1., 0.],\n",
       "       [1., 0.],\n",
       "       [1., 0.],\n",
       "       ...,\n",
       "       [1., 0.],\n",
       "       [0., 1.],\n",
       "       [0., 1.]], dtype=float32)"
      ]
     },
     "execution_count": 12,
     "metadata": {},
     "output_type": "execute_result"
    }
   ],
   "source": [
    "#doing one-hot encoding (optional as the output is binary anyways)\n",
    "labels = tf.keras.utils.to_categorical(np.array(df['label']), 2, dtype=\"float32\")\n",
    "labels"
   ]
  },
  {
   "cell_type": "code",
   "execution_count": 13,
   "metadata": {},
   "outputs": [],
   "source": [
    "from keras.models import Sequential #to create model\n",
    "from keras import layers #to add layers\n",
    "from tensorflow.keras.optimizers import RMSprop,Adam #optimizers\n",
    "from keras_preprocessing.text import Tokenizer #to tokenize the sentences\n",
    "from keras_preprocessing.sequence import pad_sequences #for padding \n",
    "from keras import regularizers #adds some penalities on layer activity during optimization\n",
    "from keras.layers import Dense, Embedding, LSTM, SpatialDropout1D, Dropout #importing different types of layers\n",
    "#from keras import backend as K\n",
    "from keras.callbacks import ModelCheckpoint "
   ]
  },
  {
   "cell_type": "code",
   "execution_count": 14,
   "metadata": {},
   "outputs": [
    {
     "name": "stdout",
     "output_type": "stream",
     "text": [
      "[[   0    0    0 ...   11  616    3]\n",
      " [ 801 1039    6 ...   37   19  233]\n",
      " [   0    0    0 ...    1   17 2249]\n",
      " ...\n",
      " [   0    0    0 ... 4679  766   30]\n",
      " [   0    0    0 ...   65    6    6]\n",
      " [   0    0    0 ...  331   56  916]]\n"
     ]
    }
   ],
   "source": [
    "max_words = 5000 #maximum number of words to keep in the internal vocabulary\n",
    "max_len = 200\n",
    "#tokenizer allows us to convert a text into a set of integer values or a vector (vectorization)\n",
    "tokenizer = Tokenizer(num_words=max_words)\n",
    "tokenizer.fit_on_texts(data) #update the internal vocabulary based on the input data\n",
    "sequences = tokenizer.texts_to_sequences(data) #transforms each text to a sequence of integers\n",
    "tweets = pad_sequences(sequences, maxlen=max_len) \n",
    "#maxlen: Optional Int, maximum length of all sequences. If not provided, sequences will be padded to the length of the longest individual sequence.\n",
    "print(tweets)"
   ]
  },
  {
   "cell_type": "code",
   "execution_count": 15,
   "metadata": {
    "scrolled": true
   },
   "outputs": [
    {
     "name": "stdout",
     "output_type": "stream",
     "text": [
      "30000 10000 30000 10000\n"
     ]
    }
   ],
   "source": [
    "X_train, X_test, y_train, y_test = train_test_split(tweets,labels, random_state=0)\n",
    "print (len(X_train),len(X_test),len(y_train),len(y_test)) #x_train, y_train, x_test, y_test split"
   ]
  },
  {
   "cell_type": "code",
   "execution_count": 17,
   "metadata": {},
   "outputs": [],
   "source": [
    "#MODEL1\n",
    "\n",
    "#simple model with 2 LSTM layers and 1 output layer\n",
    "model1 = Sequential()\n",
    "#Embedding allows in representation of similar words with similar encoding\n",
    "model1.add(layers.Embedding(max_words, 20)) #parameters in embedding layer are: number of words in our intenal vocabulary and length of the vector we want to assign to each word in the sentece.\n",
    "model1.add(layers.LSTM(6,dropout=0.25, return_sequences=True))\n",
    "model1.add(Dropout(0.4))\n",
    "model1.add(layers.LSTM(2,dropout=0.25))\n",
    "model1.add(Dropout(0.4))\n",
    "model1.add(layers.Dense(2,activation='softmax'))"
   ]
  },
  {
   "cell_type": "code",
   "execution_count": 20,
   "metadata": {},
   "outputs": [
    {
     "name": "stdout",
     "output_type": "stream",
     "text": [
      "Model: \"sequential\"\n",
      "_________________________________________________________________\n",
      " Layer (type)                Output Shape              Param #   \n",
      "=================================================================\n",
      " embedding (Embedding)       (None, None, 20)          100000    \n",
      "                                                                 \n",
      " lstm (LSTM)                 (None, None, 6)           648       \n",
      "                                                                 \n",
      " dropout (Dropout)           (None, None, 6)           0         \n",
      "                                                                 \n",
      " lstm_1 (LSTM)               (None, 2)                 72        \n",
      "                                                                 \n",
      " dropout_1 (Dropout)         (None, 2)                 0         \n",
      "                                                                 \n",
      " dense (Dense)               (None, 2)                 6         \n",
      "                                                                 \n",
      "=================================================================\n",
      "Total params: 100,726\n",
      "Trainable params: 100,726\n",
      "Non-trainable params: 0\n",
      "_________________________________________________________________\n"
     ]
    }
   ],
   "source": [
    "model1.compile(optimizer='rmsprop',loss='binary_crossentropy', metrics=['accuracy'])\n",
    "model1.summary()"
   ]
  },
  {
   "cell_type": "code",
   "execution_count": 21,
   "metadata": {},
   "outputs": [
    {
     "name": "stdout",
     "output_type": "stream",
     "text": [
      "WARNING:tensorflow:`period` argument is deprecated. Please use `save_freq` to specify the frequency in number of batches seen.\n",
      "Epoch 1/10\n",
      "938/938 [==============================] - ETA: 0s - loss: 0.5585 - accuracy: 0.7360\n",
      "Epoch 1: val_accuracy improved from -inf to 0.85380, saving model to Imdb_senti_best_model1.hdf5\n",
      "938/938 [==============================] - 276s 283ms/step - loss: 0.5585 - accuracy: 0.7360 - val_loss: 0.4126 - val_accuracy: 0.8538\n",
      "Epoch 2/10\n",
      "938/938 [==============================] - ETA: 0s - loss: 0.4208 - accuracy: 0.8137\n",
      "Epoch 2: val_accuracy improved from 0.85380 to 0.86800, saving model to Imdb_senti_best_model1.hdf5\n",
      "938/938 [==============================] - 269s 287ms/step - loss: 0.4208 - accuracy: 0.8137 - val_loss: 0.3522 - val_accuracy: 0.8680\n",
      "Epoch 3/10\n",
      "938/938 [==============================] - ETA: 0s - loss: 0.3717 - accuracy: 0.8247\n",
      "Epoch 3: val_accuracy improved from 0.86800 to 0.87510, saving model to Imdb_senti_best_model1.hdf5\n",
      "938/938 [==============================] - 258s 275ms/step - loss: 0.3717 - accuracy: 0.8247 - val_loss: 0.3116 - val_accuracy: 0.8751\n",
      "Epoch 4/10\n",
      "938/938 [==============================] - ETA: 0s - loss: 0.3517 - accuracy: 0.8349\n",
      "Epoch 4: val_accuracy did not improve from 0.87510\n",
      "938/938 [==============================] - 266s 283ms/step - loss: 0.3517 - accuracy: 0.8349 - val_loss: 0.3203 - val_accuracy: 0.8720\n",
      "Epoch 5/10\n",
      "938/938 [==============================] - ETA: 0s - loss: 0.3404 - accuracy: 0.8409\n",
      "Epoch 5: val_accuracy improved from 0.87510 to 0.87780, saving model to Imdb_senti_best_model1.hdf5\n",
      "938/938 [==============================] - 265s 283ms/step - loss: 0.3404 - accuracy: 0.8409 - val_loss: 0.3086 - val_accuracy: 0.8778\n",
      "Epoch 6/10\n",
      "938/938 [==============================] - ETA: 0s - loss: 0.3394 - accuracy: 0.8380\n",
      "Epoch 6: val_accuracy did not improve from 0.87780\n",
      "938/938 [==============================] - 209s 223ms/step - loss: 0.3394 - accuracy: 0.8380 - val_loss: 0.3094 - val_accuracy: 0.8760\n",
      "Epoch 7/10\n",
      "938/938 [==============================] - ETA: 0s - loss: 0.3312 - accuracy: 0.8435\n",
      "Epoch 7: val_accuracy did not improve from 0.87780\n",
      "938/938 [==============================] - 210s 223ms/step - loss: 0.3312 - accuracy: 0.8435 - val_loss: 0.3099 - val_accuracy: 0.8715\n",
      "Epoch 8/10\n",
      "938/938 [==============================] - ETA: 0s - loss: 0.3267 - accuracy: 0.8431\n",
      "Epoch 8: val_accuracy improved from 0.87780 to 0.88010, saving model to Imdb_senti_best_model1.hdf5\n",
      "938/938 [==============================] - 222s 237ms/step - loss: 0.3267 - accuracy: 0.8431 - val_loss: 0.3141 - val_accuracy: 0.8801\n",
      "Epoch 9/10\n",
      "938/938 [==============================] - ETA: 0s - loss: 0.3209 - accuracy: 0.8487\n",
      "Epoch 9: val_accuracy did not improve from 0.88010\n",
      "938/938 [==============================] - 223s 237ms/step - loss: 0.3209 - accuracy: 0.8487 - val_loss: 0.3037 - val_accuracy: 0.8756\n",
      "Epoch 10/10\n",
      "938/938 [==============================] - ETA: 0s - loss: 0.3170 - accuracy: 0.8479\n",
      "Epoch 10: val_accuracy did not improve from 0.88010\n",
      "938/938 [==============================] - 127s 135ms/step - loss: 0.3170 - accuracy: 0.8479 - val_loss: 0.3190 - val_accuracy: 0.8728\n"
     ]
    }
   ],
   "source": [
    "checkpoint1 = ModelCheckpoint(\"Imdb_senti_best_model1.hdf5\", monitor='val_accuracy', verbose=1,save_best_only=True, mode='auto', period=1,save_weights_only=False)\n",
    "history = model1.fit(X_train, y_train, epochs=10,validation_data=(X_test, y_test),callbacks=[checkpoint1])"
   ]
  },
  {
   "cell_type": "code",
   "execution_count": 16,
   "metadata": {},
   "outputs": [],
   "source": [
    "#MODEL 2\n",
    "\n",
    "model1 = Sequential()\n",
    "model1.add(layers.Embedding(max_words, 20))\n",
    "model1.add(layers.LSTM(10,dropout=0.25, return_sequences=True))\n",
    "#model1.add(Dropout(0.4))\n",
    "model1.add(layers.LSTM(10,dropout=0.25, return_sequences=True))\n",
    "model1.add(layers.LSTM(10, dropout=0.25, return_sequences=True))\n",
    "model1.add(layers.Bidirectional(LSTM(6, dropout=0.3, return_sequences=True)))\n",
    "model1.add(layers.LSTM(10, dropout=0.25))\n",
    "model1.add(Dropout(0.4))\n",
    "model1.add(layers.Dense(2,activation='softmax'))"
   ]
  },
  {
   "cell_type": "code",
   "execution_count": 17,
   "metadata": {
    "scrolled": true
   },
   "outputs": [
    {
     "name": "stdout",
     "output_type": "stream",
     "text": [
      "Model: \"sequential\"\n",
      "_________________________________________________________________\n",
      " Layer (type)                Output Shape              Param #   \n",
      "=================================================================\n",
      " embedding (Embedding)       (None, None, 20)          100000    \n",
      "                                                                 \n",
      " lstm (LSTM)                 (None, None, 10)          1240      \n",
      "                                                                 \n",
      " lstm_1 (LSTM)               (None, None, 10)          840       \n",
      "                                                                 \n",
      " lstm_2 (LSTM)               (None, None, 10)          840       \n",
      "                                                                 \n",
      " bidirectional (Bidirectiona  (None, None, 12)         816       \n",
      " l)                                                              \n",
      "                                                                 \n",
      " lstm_4 (LSTM)               (None, 10)                920       \n",
      "                                                                 \n",
      " dropout (Dropout)           (None, 10)                0         \n",
      "                                                                 \n",
      " dense (Dense)               (None, 2)                 22        \n",
      "                                                                 \n",
      "=================================================================\n",
      "Total params: 104,678\n",
      "Trainable params: 104,678\n",
      "Non-trainable params: 0\n",
      "_________________________________________________________________\n"
     ]
    }
   ],
   "source": [
    "model1.compile(optimizer='rmsprop',loss='binary_crossentropy', metrics=['accuracy'])\n",
    "model1.summary()"
   ]
  },
  {
   "cell_type": "code",
   "execution_count": 20,
   "metadata": {},
   "outputs": [
    {
     "name": "stdout",
     "output_type": "stream",
     "text": [
      "WARNING:tensorflow:`period` argument is deprecated. Please use `save_freq` to specify the frequency in number of batches seen.\n",
      "Epoch 1/10\n",
      "938/938 [==============================] - ETA: 0s - loss: 0.4523 - accuracy: 0.7984\n",
      "Epoch 1: val_accuracy improved from -inf to 0.82740, saving model to Imdb_senti_best_model1.hdf5\n",
      "938/938 [==============================] - 297s 303ms/step - loss: 0.4523 - accuracy: 0.7984 - val_loss: 0.4116 - val_accuracy: 0.8274\n",
      "Epoch 2/10\n",
      "938/938 [==============================] - ETA: 0s - loss: 0.3216 - accuracy: 0.8780\n",
      "Epoch 2: val_accuracy improved from 0.82740 to 0.87280, saving model to Imdb_senti_best_model1.hdf5\n",
      "938/938 [==============================] - 302s 322ms/step - loss: 0.3216 - accuracy: 0.8780 - val_loss: 0.3075 - val_accuracy: 0.8728\n",
      "Epoch 3/10\n",
      "938/938 [==============================] - ETA: 0s - loss: 0.2879 - accuracy: 0.8908\n",
      "Epoch 3: val_accuracy did not improve from 0.87280\n",
      "938/938 [==============================] - 390s 416ms/step - loss: 0.2879 - accuracy: 0.8908 - val_loss: 0.3551 - val_accuracy: 0.8578\n",
      "Epoch 4/10\n",
      "938/938 [==============================] - ETA: 0s - loss: 0.2686 - accuracy: 0.8982\n",
      "Epoch 4: val_accuracy did not improve from 0.87280\n",
      "938/938 [==============================] - 538s 574ms/step - loss: 0.2686 - accuracy: 0.8982 - val_loss: 0.3260 - val_accuracy: 0.8627\n",
      "Epoch 5/10\n",
      "938/938 [==============================] - ETA: 0s - loss: 0.2603 - accuracy: 0.9035\n",
      "Epoch 5: val_accuracy improved from 0.87280 to 0.87770, saving model to Imdb_senti_best_model1.hdf5\n",
      "938/938 [==============================] - 674s 718ms/step - loss: 0.2603 - accuracy: 0.9035 - val_loss: 0.3056 - val_accuracy: 0.8777\n",
      "Epoch 6/10\n",
      "938/938 [==============================] - ETA: 0s - loss: 0.2524 - accuracy: 0.9070\n",
      "Epoch 6: val_accuracy did not improve from 0.87770\n",
      "938/938 [==============================] - 673s 717ms/step - loss: 0.2524 - accuracy: 0.9070 - val_loss: 0.3474 - val_accuracy: 0.8632\n",
      "Epoch 7/10\n",
      "938/938 [==============================] - ETA: 0s - loss: 0.2451 - accuracy: 0.9086\n",
      "Epoch 7: val_accuracy did not improve from 0.87770\n",
      "938/938 [==============================] - 673s 718ms/step - loss: 0.2451 - accuracy: 0.9086 - val_loss: 0.3573 - val_accuracy: 0.8619\n",
      "Epoch 8/10\n",
      "938/938 [==============================] - ETA: 0s - loss: 0.2414 - accuracy: 0.9103\n",
      "Epoch 8: val_accuracy improved from 0.87770 to 0.87870, saving model to Imdb_senti_best_model1.hdf5\n",
      "938/938 [==============================] - 669s 713ms/step - loss: 0.2414 - accuracy: 0.9103 - val_loss: 0.2960 - val_accuracy: 0.8787\n",
      "Epoch 9/10\n",
      "938/938 [==============================] - ETA: 0s - loss: 0.2418 - accuracy: 0.9119\n",
      "Epoch 9: val_accuracy improved from 0.87870 to 0.87920, saving model to Imdb_senti_best_model1.hdf5\n",
      "938/938 [==============================] - 674s 719ms/step - loss: 0.2418 - accuracy: 0.9119 - val_loss: 0.3158 - val_accuracy: 0.8792\n",
      "Epoch 10/10\n",
      "938/938 [==============================] - ETA: 0s - loss: 0.2360 - accuracy: 0.9140\n",
      "Epoch 10: val_accuracy did not improve from 0.87920\n",
      "938/938 [==============================] - 670s 714ms/step - loss: 0.2360 - accuracy: 0.9140 - val_loss: 0.3061 - val_accuracy: 0.8752\n"
     ]
    }
   ],
   "source": [
    "checkpoint1 = ModelCheckpoint(\"Imdb_senti_best_model1.hdf5\", monitor='val_accuracy', verbose=1,save_best_only=True, mode='auto', period=1,save_weights_only=False)\n",
    "history = model1.fit(X_train, y_train, epochs=10,validation_data=(X_test, y_test),callbacks=[checkpoint1])"
   ]
  },
  {
   "cell_type": "code",
   "execution_count": 21,
   "metadata": {},
   "outputs": [],
   "source": [
    "best_model = keras.models.load_model(\"Imdb_senti_best_model1.hdf5\")"
   ]
  },
  {
   "cell_type": "code",
   "execution_count": 23,
   "metadata": {},
   "outputs": [
    {
     "name": "stdout",
     "output_type": "stream",
     "text": [
      "313/313 - 51s - loss: 0.3158 - accuracy: 0.8792 - 51s/epoch - 163ms/step\n",
      "Model accuracy:  0.8791999816894531\n"
     ]
    }
   ],
   "source": [
    "test_loss, test_acc = best_model.evaluate(X_test, y_test, verbose=2)\n",
    "print('Model accuracy: ',test_acc)"
   ]
  },
  {
   "cell_type": "code",
   "execution_count": 24,
   "metadata": {},
   "outputs": [
    {
     "name": "stdout",
     "output_type": "stream",
     "text": [
      "313/313 [==============================] - 58s 166ms/step\n"
     ]
    }
   ],
   "source": [
    "predictor = best_model.predict(X_test)"
   ]
  },
  {
   "cell_type": "code",
   "execution_count": 25,
   "metadata": {},
   "outputs": [],
   "source": [
    "sentiment = {1:'Positive', 0:'Negative'}"
   ]
  },
  {
   "cell_type": "code",
   "execution_count": 26,
   "metadata": {},
   "outputs": [
    {
     "name": "stdout",
     "output_type": "stream",
     "text": [
      "1/1 [==============================] - 1s 787ms/step\n"
     ]
    },
    {
     "data": {
      "text/plain": [
       "'Negative'"
      ]
     },
     "execution_count": 26,
     "metadata": {},
     "output_type": "execute_result"
    }
   ],
   "source": [
    "sequence = tokenizer.texts_to_sequences(['I watched that comedy drama the other day which was so boring and tiring'])\n",
    "test = pad_sequences(sequence, maxlen=max_len)\n",
    "sentiment[np.around(best_model.predict(test), decimals=0).argmax(axis=1)[0]]"
   ]
  },
  {
   "cell_type": "code",
   "execution_count": 28,
   "metadata": {},
   "outputs": [
    {
     "name": "stdout",
     "output_type": "stream",
     "text": [
      "1/1 [==============================] - 0s 144ms/step\n"
     ]
    },
    {
     "data": {
      "text/plain": [
       "'Positive'"
      ]
     },
     "execution_count": 28,
     "metadata": {},
     "output_type": "execute_result"
    }
   ],
   "source": [
    "sequence = tokenizer.texts_to_sequences(['The movie is awesome, the actors are so good'])\n",
    "test = pad_sequences(sequence, maxlen=max_len)\n",
    "sentiment[np.around(best_model.predict(test), decimals=0).argmax(axis=1)[0]]"
   ]
  },
  {
   "cell_type": "code",
   "execution_count": null,
   "metadata": {},
   "outputs": [],
   "source": []
  }
 ],
 "metadata": {
  "kernelspec": {
   "display_name": "Python 3 (ipykernel)",
   "language": "python",
   "name": "python3"
  },
  "language_info": {
   "codemirror_mode": {
    "name": "ipython",
    "version": 3
   },
   "file_extension": ".py",
   "mimetype": "text/x-python",
   "name": "python",
   "nbconvert_exporter": "python",
   "pygments_lexer": "ipython3",
   "version": "3.9.7"
  },
  "vscode": {
   "interpreter": {
    "hash": "386bdac2186f10ba8b61413cf3bfe0eaa81ca42222fcaf20a6c9f470fd0ccf02"
   }
  }
 },
 "nbformat": 4,
 "nbformat_minor": 2
}
